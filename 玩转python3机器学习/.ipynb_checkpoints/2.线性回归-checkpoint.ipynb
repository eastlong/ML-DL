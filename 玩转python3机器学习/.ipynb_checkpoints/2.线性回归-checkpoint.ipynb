{
 "cells": [
  {
   "cell_type": "markdown",
   "metadata": {},
   "source": [
    "# 简单线性回归\n",
    "\n",
    "\n",
    "<div align=\"center\"><img width=\"400px\" src=\"imgs/线性回归-最小二乘.PNG\"></div>\n",
    "\n",
    "## 最小二乘法\n",
    "<div align=\"center\"><img width=\"400px\" src=\"imgs/线性回归-最小二乘2.PNG\"></div>\n",
    "<div align=\"center\"><img width=\"440px\" src=\"imgs/线性回归-最小二乘3.PNG\"></div>\n",
    "\n",
    "<div align=\"center\"><img width=\"440px\" src=\"imgs/线性回归-最小二乘4.PNG\"></div>\n",
    "\n",
    "<div align=\"center\"><img width=\"440px\" src=\"imgs/线性回归-最小二乘5.PNG\"></div>"
   ]
  },
  {
   "cell_type": "code",
   "execution_count": null,
   "metadata": {},
   "outputs": [],
   "source": []
  }
 ],
 "metadata": {
  "kernelspec": {
   "display_name": "Python 3",
   "language": "python",
   "name": "python3"
  },
  "language_info": {
   "codemirror_mode": {
    "name": "ipython",
    "version": 3
   },
   "file_extension": ".py",
   "mimetype": "text/x-python",
   "name": "python",
   "nbconvert_exporter": "python",
   "pygments_lexer": "ipython3",
   "version": "3.7.6"
  },
  "toc": {
   "base_numbering": 1,
   "nav_menu": {},
   "number_sections": true,
   "sideBar": true,
   "skip_h1_title": false,
   "title_cell": "Table of Contents",
   "title_sidebar": "Contents",
   "toc_cell": false,
   "toc_position": {},
   "toc_section_display": true,
   "toc_window_display": false
  }
 },
 "nbformat": 4,
 "nbformat_minor": 4
}
